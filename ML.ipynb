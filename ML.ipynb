{
 "cells": [
  {
   "cell_type": "code",
   "execution_count": 1,
   "id": "nearby-congo",
   "metadata": {},
   "outputs": [],
   "source": [
    "# Import dependencies\n",
    "%matplotlib inline\n",
    "import matplotlib.pyplot as plt\n",
    "import numpy as np\n",
    "import pandas as pd\n",
    "import os\n",
    "from sklearn.model_selection import train_test_split\n",
    "from sklearn.linear_model import LinearRegression\n",
    "from sklearn.metrics import mean_squared_error, r2_score\n",
    "from sklearn.preprocessing import StandardScaler\n"
   ]
  },
  {
   "cell_type": "code",
   "execution_count": 2,
   "id": "express-clarity",
   "metadata": {},
   "outputs": [
    {
     "data": {
      "text/html": [
       "<div>\n",
       "<style scoped>\n",
       "    .dataframe tbody tr th:only-of-type {\n",
       "        vertical-align: middle;\n",
       "    }\n",
       "\n",
       "    .dataframe tbody tr th {\n",
       "        vertical-align: top;\n",
       "    }\n",
       "\n",
       "    .dataframe thead th {\n",
       "        text-align: right;\n",
       "    }\n",
       "</style>\n",
       "<table border=\"1\" class=\"dataframe\">\n",
       "  <thead>\n",
       "    <tr style=\"text-align: right;\">\n",
       "      <th></th>\n",
       "      <th>Datenum</th>\n",
       "      <th>Date</th>\n",
       "      <th>Poudre Inf Flow (%)</th>\n",
       "      <th>Horsetooth Inf Flow (%)</th>\n",
       "      <th>Washwater Return Inf Flow (%)</th>\n",
       "      <th>Poudre Temp (C)</th>\n",
       "      <th>Poudre pH</th>\n",
       "      <th>Poudre Turb (NTU)</th>\n",
       "      <th>Poudre DO (mg/l)</th>\n",
       "      <th>Horsetooth Temp (C)</th>\n",
       "      <th>Horsetooth pH</th>\n",
       "      <th>Horsetooth Turb (NTU)</th>\n",
       "      <th>Horsetooth DO (mg/L)</th>\n",
       "      <th>Finished Water Temp (C)</th>\n",
       "      <th>Finished Water pH</th>\n",
       "      <th>Finished Water Turb (NTU)</th>\n",
       "      <th>Finished Water Alk (mg/L)</th>\n",
       "      <th>Finished Water Cl2 Res (mg/L)</th>\n",
       "      <th>Notes</th>\n",
       "    </tr>\n",
       "  </thead>\n",
       "  <tbody>\n",
       "    <tr>\n",
       "      <th>0</th>\n",
       "      <td>20100101</td>\n",
       "      <td>01-Jan-2010</td>\n",
       "      <td>0.643</td>\n",
       "      <td>0.328</td>\n",
       "      <td>0.029</td>\n",
       "      <td>0.87</td>\n",
       "      <td>7.88</td>\n",
       "      <td>0.67</td>\n",
       "      <td>12.36</td>\n",
       "      <td>5.98</td>\n",
       "      <td>7.59</td>\n",
       "      <td>4.53</td>\n",
       "      <td>9.88</td>\n",
       "      <td>2.01</td>\n",
       "      <td>8.05</td>\n",
       "      <td>0.03</td>\n",
       "      <td>41.35</td>\n",
       "      <td>0.80</td>\n",
       "      <td>NaN</td>\n",
       "    </tr>\n",
       "    <tr>\n",
       "      <th>1</th>\n",
       "      <td>20100102</td>\n",
       "      <td>02-Jan-2010</td>\n",
       "      <td>0.709</td>\n",
       "      <td>0.242</td>\n",
       "      <td>0.050</td>\n",
       "      <td>0.74</td>\n",
       "      <td>8.07</td>\n",
       "      <td>0.73</td>\n",
       "      <td>12.38</td>\n",
       "      <td>6.00</td>\n",
       "      <td>7.60</td>\n",
       "      <td>4.41</td>\n",
       "      <td>9.86</td>\n",
       "      <td>1.82</td>\n",
       "      <td>8.00</td>\n",
       "      <td>0.03</td>\n",
       "      <td>40.99</td>\n",
       "      <td>0.76</td>\n",
       "      <td>NaN</td>\n",
       "    </tr>\n",
       "    <tr>\n",
       "      <th>2</th>\n",
       "      <td>20100103</td>\n",
       "      <td>03-Jan-2010</td>\n",
       "      <td>0.654</td>\n",
       "      <td>0.296</td>\n",
       "      <td>0.050</td>\n",
       "      <td>0.72</td>\n",
       "      <td>8.06</td>\n",
       "      <td>0.74</td>\n",
       "      <td>12.38</td>\n",
       "      <td>6.06</td>\n",
       "      <td>7.59</td>\n",
       "      <td>4.45</td>\n",
       "      <td>9.84</td>\n",
       "      <td>1.85</td>\n",
       "      <td>7.97</td>\n",
       "      <td>0.03</td>\n",
       "      <td>40.31</td>\n",
       "      <td>0.74</td>\n",
       "      <td>NaN</td>\n",
       "    </tr>\n",
       "    <tr>\n",
       "      <th>3</th>\n",
       "      <td>20100104</td>\n",
       "      <td>04-Jan-2010</td>\n",
       "      <td>0.577</td>\n",
       "      <td>0.359</td>\n",
       "      <td>0.064</td>\n",
       "      <td>0.70</td>\n",
       "      <td>7.75</td>\n",
       "      <td>0.75</td>\n",
       "      <td>12.35</td>\n",
       "      <td>6.17</td>\n",
       "      <td>7.61</td>\n",
       "      <td>4.42</td>\n",
       "      <td>9.87</td>\n",
       "      <td>1.97</td>\n",
       "      <td>8.02</td>\n",
       "      <td>0.03</td>\n",
       "      <td>38.55</td>\n",
       "      <td>0.75</td>\n",
       "      <td>NaN</td>\n",
       "    </tr>\n",
       "    <tr>\n",
       "      <th>4</th>\n",
       "      <td>20100105</td>\n",
       "      <td>05-Jan-2010</td>\n",
       "      <td>0.598</td>\n",
       "      <td>0.337</td>\n",
       "      <td>0.065</td>\n",
       "      <td>0.70</td>\n",
       "      <td>7.51</td>\n",
       "      <td>0.58</td>\n",
       "      <td>10.36</td>\n",
       "      <td>7.11</td>\n",
       "      <td>7.59</td>\n",
       "      <td>4.41</td>\n",
       "      <td>9.79</td>\n",
       "      <td>1.92</td>\n",
       "      <td>7.94</td>\n",
       "      <td>0.03</td>\n",
       "      <td>37.96</td>\n",
       "      <td>0.76</td>\n",
       "      <td>NaN</td>\n",
       "    </tr>\n",
       "  </tbody>\n",
       "</table>\n",
       "</div>"
      ],
      "text/plain": [
       "    Datenum         Date  Poudre Inf Flow (%)  Horsetooth Inf Flow (%)  \\\n",
       "0  20100101  01-Jan-2010                0.643                    0.328   \n",
       "1  20100102  02-Jan-2010                0.709                    0.242   \n",
       "2  20100103  03-Jan-2010                0.654                    0.296   \n",
       "3  20100104  04-Jan-2010                0.577                    0.359   \n",
       "4  20100105  05-Jan-2010                0.598                    0.337   \n",
       "\n",
       "   Washwater Return Inf Flow (%)  Poudre Temp (C)  Poudre pH  \\\n",
       "0                          0.029             0.87       7.88   \n",
       "1                          0.050             0.74       8.07   \n",
       "2                          0.050             0.72       8.06   \n",
       "3                          0.064             0.70       7.75   \n",
       "4                          0.065             0.70       7.51   \n",
       "\n",
       "   Poudre Turb (NTU)  Poudre DO (mg/l)  Horsetooth Temp (C)  Horsetooth pH  \\\n",
       "0               0.67             12.36                 5.98           7.59   \n",
       "1               0.73             12.38                 6.00           7.60   \n",
       "2               0.74             12.38                 6.06           7.59   \n",
       "3               0.75             12.35                 6.17           7.61   \n",
       "4               0.58             10.36                 7.11           7.59   \n",
       "\n",
       "   Horsetooth Turb (NTU)  Horsetooth DO (mg/L)  Finished Water Temp (C)  \\\n",
       "0                   4.53                  9.88                     2.01   \n",
       "1                   4.41                  9.86                     1.82   \n",
       "2                   4.45                  9.84                     1.85   \n",
       "3                   4.42                  9.87                     1.97   \n",
       "4                   4.41                  9.79                     1.92   \n",
       "\n",
       "   Finished Water pH  Finished Water Turb (NTU)  Finished Water Alk (mg/L)  \\\n",
       "0               8.05                       0.03                      41.35   \n",
       "1               8.00                       0.03                      40.99   \n",
       "2               7.97                       0.03                      40.31   \n",
       "3               8.02                       0.03                      38.55   \n",
       "4               7.94                       0.03                      37.96   \n",
       "\n",
       "   Finished Water Cl2 Res (mg/L) Notes  \n",
       "0                           0.80   NaN  \n",
       "1                           0.76   NaN  \n",
       "2                           0.74   NaN  \n",
       "3                           0.75   NaN  \n",
       "4                           0.76   NaN  "
      ]
     },
     "execution_count": 2,
     "metadata": {},
     "output_type": "execute_result"
    }
   ],
   "source": [
    "# Read in the data from the csv file\n",
    "water_data = pd.read_csv('City_of_Fort_Collins_Water_Quality.csv')\n",
    "water_data.head()"
   ]
  },
  {
   "cell_type": "code",
   "execution_count": 3,
   "id": "developed-smile",
   "metadata": {},
   "outputs": [
    {
     "data": {
      "text/html": [
       "<div>\n",
       "<style scoped>\n",
       "    .dataframe tbody tr th:only-of-type {\n",
       "        vertical-align: middle;\n",
       "    }\n",
       "\n",
       "    .dataframe tbody tr th {\n",
       "        vertical-align: top;\n",
       "    }\n",
       "\n",
       "    .dataframe thead th {\n",
       "        text-align: right;\n",
       "    }\n",
       "</style>\n",
       "<table border=\"1\" class=\"dataframe\">\n",
       "  <thead>\n",
       "    <tr style=\"text-align: right;\">\n",
       "      <th></th>\n",
       "      <th>Datenum</th>\n",
       "      <th>Date</th>\n",
       "      <th>Poudre Inf Flow (%)</th>\n",
       "      <th>Horsetooth Inf Flow (%)</th>\n",
       "      <th>Washwater Return Inf Flow (%)</th>\n",
       "      <th>Poudre Temp (C)</th>\n",
       "      <th>Poudre pH</th>\n",
       "      <th>Poudre Turb (NTU)</th>\n",
       "      <th>Poudre DO (mg/l)</th>\n",
       "      <th>Horsetooth Temp (C)</th>\n",
       "      <th>Horsetooth pH</th>\n",
       "      <th>Horsetooth Turb (NTU)</th>\n",
       "      <th>Horsetooth DO (mg/L)</th>\n",
       "      <th>Finished Water Temp (C)</th>\n",
       "      <th>Finished Water pH</th>\n",
       "      <th>Finished Water Turb (NTU)</th>\n",
       "      <th>Finished Water Alk (mg/L)</th>\n",
       "      <th>Finished Water Cl2 Res (mg/L)</th>\n",
       "      <th>Notes</th>\n",
       "    </tr>\n",
       "  </thead>\n",
       "  <tbody>\n",
       "    <tr>\n",
       "      <th>990</th>\n",
       "      <td>20120917</td>\n",
       "      <td>17-Sep-2012</td>\n",
       "      <td>0.100</td>\n",
       "      <td>0.900</td>\n",
       "      <td>0.0</td>\n",
       "      <td>16.37</td>\n",
       "      <td>7.54</td>\n",
       "      <td>27.16</td>\n",
       "      <td>7.85</td>\n",
       "      <td>16.75</td>\n",
       "      <td>7.13</td>\n",
       "      <td>4.35</td>\n",
       "      <td>2.72</td>\n",
       "      <td>16.62</td>\n",
       "      <td>7.72</td>\n",
       "      <td>0.03</td>\n",
       "      <td>37.81</td>\n",
       "      <td>0.77</td>\n",
       "      <td>Data Validated 12:02 KDM</td>\n",
       "    </tr>\n",
       "    <tr>\n",
       "      <th>993</th>\n",
       "      <td>20120920</td>\n",
       "      <td>20-Sep-2012</td>\n",
       "      <td>0.106</td>\n",
       "      <td>0.894</td>\n",
       "      <td>0.0</td>\n",
       "      <td>14.97</td>\n",
       "      <td>7.70</td>\n",
       "      <td>5.23</td>\n",
       "      <td>11.53</td>\n",
       "      <td>17.32</td>\n",
       "      <td>7.16</td>\n",
       "      <td>4.16</td>\n",
       "      <td>3.13</td>\n",
       "      <td>17.02</td>\n",
       "      <td>8.04</td>\n",
       "      <td>0.02</td>\n",
       "      <td>40.41</td>\n",
       "      <td>0.81</td>\n",
       "      <td>Data validated 1216 hrs.  (GLJ)</td>\n",
       "    </tr>\n",
       "    <tr>\n",
       "      <th>997</th>\n",
       "      <td>20120924</td>\n",
       "      <td>24-Sep-2012</td>\n",
       "      <td>0.113</td>\n",
       "      <td>0.887</td>\n",
       "      <td>0.0</td>\n",
       "      <td>14.85</td>\n",
       "      <td>7.59</td>\n",
       "      <td>3.41</td>\n",
       "      <td>11.40</td>\n",
       "      <td>17.81</td>\n",
       "      <td>7.39</td>\n",
       "      <td>4.38</td>\n",
       "      <td>5.76</td>\n",
       "      <td>17.56</td>\n",
       "      <td>7.96</td>\n",
       "      <td>0.02</td>\n",
       "      <td>39.60</td>\n",
       "      <td>0.77</td>\n",
       "      <td>Data validated 0817 hrs.  (GLJ)</td>\n",
       "    </tr>\n",
       "    <tr>\n",
       "      <th>998</th>\n",
       "      <td>20120925</td>\n",
       "      <td>25-Sep-2012</td>\n",
       "      <td>0.137</td>\n",
       "      <td>0.863</td>\n",
       "      <td>0.0</td>\n",
       "      <td>14.69</td>\n",
       "      <td>7.55</td>\n",
       "      <td>4.35</td>\n",
       "      <td>11.23</td>\n",
       "      <td>17.70</td>\n",
       "      <td>7.44</td>\n",
       "      <td>4.79</td>\n",
       "      <td>6.34</td>\n",
       "      <td>17.59</td>\n",
       "      <td>7.95</td>\n",
       "      <td>0.03</td>\n",
       "      <td>39.49</td>\n",
       "      <td>0.71</td>\n",
       "      <td>Data validated @ 1239 hrs.   (GLJ)</td>\n",
       "    </tr>\n",
       "    <tr>\n",
       "      <th>1004</th>\n",
       "      <td>20121001</td>\n",
       "      <td>01-Oct-2012</td>\n",
       "      <td>0.153</td>\n",
       "      <td>0.847</td>\n",
       "      <td>0.0</td>\n",
       "      <td>14.76</td>\n",
       "      <td>7.49</td>\n",
       "      <td>15.32</td>\n",
       "      <td>9.83</td>\n",
       "      <td>17.05</td>\n",
       "      <td>7.55</td>\n",
       "      <td>4.21</td>\n",
       "      <td>7.32</td>\n",
       "      <td>17.05</td>\n",
       "      <td>7.96</td>\n",
       "      <td>0.02</td>\n",
       "      <td>37.91</td>\n",
       "      <td>0.76</td>\n",
       "      <td>Data validated @ 0725 hrs.  (GLJ)</td>\n",
       "    </tr>\n",
       "  </tbody>\n",
       "</table>\n",
       "</div>"
      ],
      "text/plain": [
       "       Datenum         Date  Poudre Inf Flow (%)  Horsetooth Inf Flow (%)  \\\n",
       "990   20120917  17-Sep-2012                0.100                    0.900   \n",
       "993   20120920  20-Sep-2012                0.106                    0.894   \n",
       "997   20120924  24-Sep-2012                0.113                    0.887   \n",
       "998   20120925  25-Sep-2012                0.137                    0.863   \n",
       "1004  20121001  01-Oct-2012                0.153                    0.847   \n",
       "\n",
       "      Washwater Return Inf Flow (%)  Poudre Temp (C)  Poudre pH  \\\n",
       "990                             0.0            16.37       7.54   \n",
       "993                             0.0            14.97       7.70   \n",
       "997                             0.0            14.85       7.59   \n",
       "998                             0.0            14.69       7.55   \n",
       "1004                            0.0            14.76       7.49   \n",
       "\n",
       "      Poudre Turb (NTU)  Poudre DO (mg/l)  Horsetooth Temp (C)  Horsetooth pH  \\\n",
       "990               27.16              7.85                16.75           7.13   \n",
       "993                5.23             11.53                17.32           7.16   \n",
       "997                3.41             11.40                17.81           7.39   \n",
       "998                4.35             11.23                17.70           7.44   \n",
       "1004              15.32              9.83                17.05           7.55   \n",
       "\n",
       "      Horsetooth Turb (NTU)  Horsetooth DO (mg/L)  Finished Water Temp (C)  \\\n",
       "990                    4.35                  2.72                    16.62   \n",
       "993                    4.16                  3.13                    17.02   \n",
       "997                    4.38                  5.76                    17.56   \n",
       "998                    4.79                  6.34                    17.59   \n",
       "1004                   4.21                  7.32                    17.05   \n",
       "\n",
       "      Finished Water pH  Finished Water Turb (NTU)  Finished Water Alk (mg/L)  \\\n",
       "990                7.72                       0.03                      37.81   \n",
       "993                8.04                       0.02                      40.41   \n",
       "997                7.96                       0.02                      39.60   \n",
       "998                7.95                       0.03                      39.49   \n",
       "1004               7.96                       0.02                      37.91   \n",
       "\n",
       "      Finished Water Cl2 Res (mg/L)                               Notes  \n",
       "990                            0.77            Data Validated 12:02 KDM  \n",
       "993                            0.81     Data validated 1216 hrs.  (GLJ)  \n",
       "997                            0.77     Data validated 0817 hrs.  (GLJ)  \n",
       "998                            0.71  Data validated @ 1239 hrs.   (GLJ)  \n",
       "1004                           0.76   Data validated @ 0725 hrs.  (GLJ)  "
      ]
     },
     "execution_count": 3,
     "metadata": {},
     "output_type": "execute_result"
    }
   ],
   "source": [
    "# Drop N/A values\n",
    "clean_data = water_data.dropna()\n",
    "clean_data.head()"
   ]
  },
  {
   "cell_type": "code",
   "execution_count": 4,
   "id": "varied-macedonia",
   "metadata": {},
   "outputs": [
    {
     "name": "stdout",
     "output_type": "stream",
     "text": [
      "Shape:  (390, 1) (390, 1) (390, 1) (390, 1)\n"
     ]
    }
   ],
   "source": [
    "# X and y assigned for pH\n",
    "X = clean_data[\"Poudre pH\"].values.reshape(-1,1)\n",
    "y = clean_data[\"Finished Water pH\"].values.reshape(-1,1)\n",
    "\n",
    "X1 = clean_data[\"Horsetooth pH\"].values.reshape(-1,1)\n",
    "y1 = clean_data[\"Finished Water pH\"].values.reshape(-1,1)\n",
    "\n",
    "print(\"Shape: \", X.shape, y.shape, X1.shape, y1.shape)"
   ]
  },
  {
   "cell_type": "code",
   "execution_count": 5,
   "id": "alike-consistency",
   "metadata": {},
   "outputs": [
    {
     "name": "stdout",
     "output_type": "stream",
     "text": [
      "Shape:  (390, 1) (390, 1) (390, 1) (390, 1)\n"
     ]
    }
   ],
   "source": [
    "# X and y assigned for turbidity\n",
    "X2 = clean_data[\"Poudre Turb (NTU)\"].values.reshape(-1,1)\n",
    "y2 = clean_data[\"Finished Water Turb (NTU)\"].values.reshape(-1,1)\n",
    "\n",
    "X3 = clean_data[\"Horsetooth Turb (NTU)\"].values.reshape(-1,1)\n",
    "y3 = clean_data[\"Finished Water Turb (NTU)\"].values.reshape(-1,1)\n",
    "\n",
    "print(\"Shape: \", X2.shape, y2.shape, X3.shape, y3.shape)"
   ]
  },
  {
   "cell_type": "code",
   "execution_count": 6,
   "id": "seven-reggae",
   "metadata": {},
   "outputs": [
    {
     "name": "stdout",
     "output_type": "stream",
     "text": [
      "Shape:  (390, 1) (390, 1) (390, 1) (390, 1)\n"
     ]
    }
   ],
   "source": [
    "# X and y assigned for temperature\n",
    "X4 = clean_data[\"Poudre Temp (C)\"].values.reshape(-1,1)\n",
    "y4 = clean_data[\"Finished Water Temp (C)\"].values.reshape(-1,1)\n",
    "\n",
    "X5 = clean_data[\"Horsetooth Temp (C)\"].values.reshape(-1,1)\n",
    "y5 = clean_data[\"Finished Water Temp (C)\"].values.reshape(-1,1)\n",
    "\n",
    "print(\"Shape: \", X4.shape, y4.shape, X5.shape, y5.shape)"
   ]
  },
  {
   "cell_type": "code",
   "execution_count": 7,
   "id": "decent-symposium",
   "metadata": {},
   "outputs": [],
   "source": [
    "# Split data into test/train\n",
    "X_train, X_test, y_train, y_test, = train_test_split(X,y,random_state=42)\n",
    "X1_train, X1_test, y1_train, y1_test, = train_test_split(X1,y1,random_state=42)\n",
    "\n",
    "X2_train, X2_test, y2_train, y2_test, = train_test_split(X2,y2,random_state=42)\n",
    "X3_train, X3_test, y3_train, y3_test, = train_test_split(X3,y3,random_state=42)\n",
    "\n",
    "X4_train, X4_test, y4_train, y4_test, = train_test_split(X4,y4,random_state=42)\n",
    "X5_train, X5_test, y5_train, y5_test, = train_test_split(X5,y5,random_state=42)"
   ]
  },
  {
   "cell_type": "code",
   "execution_count": 8,
   "id": "heard-burner",
   "metadata": {},
   "outputs": [
    {
     "data": {
      "image/png": "[encoded data removed]",
      "text/plain": [
       "<Figure size 432x288 with 1 Axes>"
      ]
     },
     "metadata": {
      "needs_background": "light"
     },
     "output_type": "display_data"
    }
   ],
   "source": [
    "# Plot the x and y values that were assigned\n",
    "plt.scatter(X, y)\n",
    "plt.scatter(X1, y1)\n",
    "plt.xlabel(\"Raw Water pH\")\n",
    "plt.ylabel(\"Finished Water pH\")\n",
    "plt.title(\"pH\")\n",
    "plt.savefig(\"images/pH.png\")\n",
    "plt.show()"
   ]
  },
  {
   "cell_type": "code",
   "execution_count": 9,
   "id": "peaceful-young",
   "metadata": {},
   "outputs": [
    {
     "data": {
      "image/png": "[encoded data removed]",
      "text/plain": [
       "<Figure size 432x288 with 1 Axes>"
      ]
     },
     "metadata": {
      "needs_background": "light"
     },
     "output_type": "display_data"
    }
   ],
   "source": [
    "plt.scatter(X2, y2)\n",
    "plt.scatter(X3, y3)\n",
    "plt.xlabel(\"Raw Water Turbidity (NTU)\")\n",
    "plt.ylabel(\"Finished Water Turbidity (NTU)\")\n",
    "plt.title(\"Turbidity (NTU)\")\n",
    "plt.savefig(\"images/turbidity.png\")\n",
    "plt.show()"
   ]
  },
  {
   "cell_type": "code",
   "execution_count": 10,
   "id": "cheap-breakfast",
   "metadata": {},
   "outputs": [
    {
     "data": {
      "image/png": "[encoded data removed]",
      "text/plain": [
       "<Figure size 432x288 with 1 Axes>"
      ]
     },
     "metadata": {
      "needs_background": "light"
     },
     "output_type": "display_data"
    }
   ],
   "source": [
    "plt.scatter(X4, y4)\n",
    "plt.scatter(X5, y5)\n",
    "plt.xlabel(\"Raw Water Temp (C)\")\n",
    "plt.ylabel(\"Finished Water Temp (C)\")\n",
    "plt.title(\"Temperature (C)\")\n",
    "plt.savefig(\"images/temperature.png\")\n",
    "plt.show()"
   ]
  },
  {
   "cell_type": "code",
   "execution_count": 11,
   "id": "tight-gravity",
   "metadata": {},
   "outputs": [
    {
     "data": {
      "text/plain": [
       "LinearRegression()"
      ]
     },
     "execution_count": 11,
     "metadata": {},
     "output_type": "execute_result"
    }
   ],
   "source": [
    "# LinearRegression used to create model and fit it\n",
    "model = LinearRegression()\n",
    "model.fit(X_train, y_train)\n"
   ]
  },
  {
   "cell_type": "code",
   "execution_count": 12,
   "id": "radio-background",
   "metadata": {},
   "outputs": [
    {
     "data": {
      "text/plain": [
       "LinearRegression()"
      ]
     },
     "execution_count": 12,
     "metadata": {},
     "output_type": "execute_result"
    }
   ],
   "source": [
    "model1 = LinearRegression()\n",
    "model1.fit(X1_train, y1_train)"
   ]
  },
  {
   "cell_type": "code",
   "execution_count": 13,
   "id": "emerging-maryland",
   "metadata": {},
   "outputs": [
    {
     "data": {
      "text/plain": [
       "LinearRegression()"
      ]
     },
     "execution_count": 13,
     "metadata": {},
     "output_type": "execute_result"
    }
   ],
   "source": [
    "model2 = LinearRegression()\n",
    "model2.fit(X2_train, y2_train)\n"
   ]
  },
  {
   "cell_type": "code",
   "execution_count": 14,
   "id": "expired-pleasure",
   "metadata": {},
   "outputs": [
    {
     "data": {
      "text/plain": [
       "LinearRegression()"
      ]
     },
     "execution_count": 14,
     "metadata": {},
     "output_type": "execute_result"
    }
   ],
   "source": [
    "model3 = LinearRegression()\n",
    "model3.fit(X3_train, y3_train)"
   ]
  },
  {
   "cell_type": "code",
   "execution_count": 15,
   "id": "processed-briefs",
   "metadata": {},
   "outputs": [
    {
     "data": {
      "text/plain": [
       "LinearRegression()"
      ]
     },
     "execution_count": 15,
     "metadata": {},
     "output_type": "execute_result"
    }
   ],
   "source": [
    "model4 = LinearRegression()\n",
    "model4.fit(X4_train, y4_train)\n"
   ]
  },
  {
   "cell_type": "code",
   "execution_count": 16,
   "id": "limited-socket",
   "metadata": {},
   "outputs": [
    {
     "data": {
      "text/plain": [
       "LinearRegression()"
      ]
     },
     "execution_count": 16,
     "metadata": {},
     "output_type": "execute_result"
    }
   ],
   "source": [
    "model5 = LinearRegression()\n",
    "model5.fit(X5_train, y5_train)"
   ]
  },
  {
   "cell_type": "code",
   "execution_count": 17,
   "id": "round-intake",
   "metadata": {},
   "outputs": [],
   "source": [
    "# Model used to make predictions\n",
    "predicted = model.predict(X_test)\n",
    "predicted1 = model1.predict(X1_test)"
   ]
  },
  {
   "cell_type": "code",
   "execution_count": 18,
   "id": "active-render",
   "metadata": {},
   "outputs": [],
   "source": [
    "predicted2 = model2.predict(X2_test)\n",
    "predicted3 = model3.predict(X3_test)"
   ]
  },
  {
   "cell_type": "code",
   "execution_count": 19,
   "id": "hydraulic-values",
   "metadata": {},
   "outputs": [],
   "source": [
    "predicted4 = model4.predict(X4_test)\n",
    "predicted5 = model5.predict(X5_test)"
   ]
  },
  {
   "cell_type": "code",
   "execution_count": 20,
   "id": "plain-brown",
   "metadata": {},
   "outputs": [],
   "source": [
    "# Prediction scores using Mean_Squared_Error\n",
    "pH_P_F_mse = mean_squared_error(y_test, predicted)\n",
    "pH_H_F_mse = mean_squared_error(y1_test, predicted1)"
   ]
  },
  {
   "cell_type": "code",
   "execution_count": 21,
   "id": "urban-paste",
   "metadata": {},
   "outputs": [],
   "source": [
    "turb_P_F_mse = mean_squared_error(y2_test, predicted2)\n",
    "turb_H_F_mse = mean_squared_error(y3_test, predicted3)"
   ]
  },
  {
   "cell_type": "code",
   "execution_count": 22,
   "id": "neutral-nigeria",
   "metadata": {},
   "outputs": [],
   "source": [
    "temp_P_F_mse = mean_squared_error(y4_test, predicted4)\n",
    "temp_H_F_mse = mean_squared_error(y5_test, predicted5)"
   ]
  },
  {
   "cell_type": "code",
   "execution_count": 23,
   "id": "emotional-viking",
   "metadata": {},
   "outputs": [],
   "source": [
    "# Prediction scores using r^2\n",
    "pH_P_F_r2 = r2_score(y_test, predicted)\n",
    "pH_H_F_r2 = r2_score(y1_test, predicted1)"
   ]
  },
  {
   "cell_type": "code",
   "execution_count": 24,
   "id": "departmental-seventh",
   "metadata": {},
   "outputs": [],
   "source": [
    "turb_P_F_r2 = r2_score(y2_test, predicted2)\n",
    "turb_H_F_r2 = r2_score(y3_test, predicted3)"
   ]
  },
  {
   "cell_type": "code",
   "execution_count": 25,
   "id": "equal-audio",
   "metadata": {},
   "outputs": [],
   "source": [
    "temp_P_F_r2 = r2_score(y4_test, predicted4)\n",
    "temp_H_F_r2 = r2_score(y5_test, predicted5)"
   ]
  },
  {
   "cell_type": "code",
   "execution_count": 26,
   "id": "quality-conference",
   "metadata": {},
   "outputs": [
    {
     "name": "stdout",
     "output_type": "stream",
     "text": [
      "P/F and H/F pH Mean Squared Error (MSE): 0.0059 and 0.0058\n",
      "P/F and H/F turbidity Mean Squared Error (MSE): 0.0 and 0.0\n",
      "P/F and H/F Temp Mean Squared Error (MSE): 3.0826 and 4.9891\n"
     ]
    }
   ],
   "source": [
    "# Print Mean_Square_Error values\n",
    "print(f\"P/F and H/F pH Mean Squared Error (MSE): {round(pH_P_F_mse,4)} and {round(pH_H_F_mse,4)}\")\n",
    "print(f\"P/F and H/F turbidity Mean Squared Error (MSE): {round(turb_P_F_mse,4)} and {round(turb_H_F_mse,4)}\")\n",
    "print(f\"P/F and H/F Temp Mean Squared Error (MSE): {round(temp_P_F_mse,4)} and {round(temp_H_F_mse,4)}\")"
   ]
  },
  {
   "cell_type": "code",
   "execution_count": 27,
   "id": "iraqi-integral",
   "metadata": {},
   "outputs": [
    {
     "name": "stdout",
     "output_type": "stream",
     "text": [
      "P/F and H/F pH r^2: -0.0311 and -0.0193\n",
      "P/F and H/F turbidity r^2: -0.0047 and 0.1581\n",
      "P/F and H/F Temp r^2: 0.8082 and 0.6895\n"
     ]
    }
   ],
   "source": [
    "# Print r^2 values\n",
    "print(f\"P/F and H/F pH r^2: {round(pH_P_F_r2,4)} and {round(pH_H_F_r2,4)}\")\n",
    "print(f\"P/F and H/F turbidity r^2: {round(turb_P_F_r2,4)} and {round(turb_H_F_r2,4)}\")\n",
    "print(f\"P/F and H/F Temp r^2: {round(temp_P_F_r2,4)} and {round(temp_H_F_r2,4)}\")"
   ]
  },
  {
   "cell_type": "code",
   "execution_count": 52,
   "id": "contained-edward",
   "metadata": {},
   "outputs": [],
   "source": [
    "# Creating StandardScaler model to fit to training data\n",
    "X_scalar = StandardScaler().fit(X_train)\n",
    "y_scalar = StandardScaler().fit(y_train)\n",
    "\n",
    "X1_scalar = StandardScaler().fit(X1_train)\n",
    "y1_scalar = StandardScaler().fit(y1_train)"
   ]
  },
  {
   "cell_type": "code",
   "execution_count": 53,
   "id": "seeing-perry",
   "metadata": {},
   "outputs": [],
   "source": [
    "X2_scalar = StandardScaler().fit(X2_train)\n",
    "y2_scalar = StandardScaler().fit(y2_train)\n",
    "\n",
    "X3_scalar = StandardScaler().fit(X3_train)\n",
    "y3_scalar = StandardScaler().fit(y3_train)"
   ]
  },
  {
   "cell_type": "code",
   "execution_count": 54,
   "id": "primary-dispatch",
   "metadata": {},
   "outputs": [],
   "source": [
    "X4_scalar = StandardScaler().fit(X4_train)\n",
    "y4_scalar = StandardScaler().fit(y4_train)\n",
    "\n",
    "X5_scalar = StandardScaler().fit(X5_train)\n",
    "y5_scalar = StandardScaler().fit(y5_train)"
   ]
  },
  {
   "cell_type": "code",
   "execution_count": 55,
   "id": "digital-industry",
   "metadata": {},
   "outputs": [],
   "source": [
    "# Transforming training and testing data with the scaler models\n",
    "X_train_scaled = X_scalar.transform(X_train)\n",
    "X_test_scaled = X_scalar.transform(X_test)\n",
    "y_train_scaled = y_scalar.transform(y_train)\n",
    "y_test_scaled = y_scalar.transform(y_test)\n",
    "\n",
    "X1_train_scaled = X1_scalar.transform(X1_train)\n",
    "X1_test_scaled = X1_scalar.transform(X1_test)\n",
    "y1_train_scaled = y1_scalar.transform(y1_train)\n",
    "y1_test_scaled = y1_scalar.transform(y1_test)"
   ]
  },
  {
   "cell_type": "code",
   "execution_count": 56,
   "id": "cheap-burke",
   "metadata": {},
   "outputs": [],
   "source": [
    "X2_train_scaled = X2_scalar.transform(X2_train)\n",
    "X2_test_scaled = X2_scalar.transform(X2_test)\n",
    "y2_train_scaled = y2_scalar.transform(y2_train)\n",
    "y2_test_scaled = y2_scalar.transform(y2_test)\n",
    "\n",
    "X3_train_scaled = X3_scalar.transform(X3_train)\n",
    "X3_test_scaled = X3_scalar.transform(X3_test)\n",
    "y3_train_scaled = y3_scalar.transform(y3_train)\n",
    "y3_test_scaled = y3_scalar.transform(y3_test)"
   ]
  },
  {
   "cell_type": "code",
   "execution_count": 57,
   "id": "immune-surveillance",
   "metadata": {},
   "outputs": [],
   "source": [
    "X4_train_scaled = X4_scalar.transform(X4_train)\n",
    "X4_test_scaled = X4_scalar.transform(X4_test)\n",
    "y4_train_scaled = y4_scalar.transform(y4_train)\n",
    "y4_test_scaled = y4_scalar.transform(y4_test)\n",
    "\n",
    "X5_train_scaled = X5_scalar.transform(X5_train)\n",
    "X5_test_scaled = X5_scalar.transform(X5_test)\n",
    "y5_train_scaled = y5_scalar.transform(y5_train)\n",
    "y5_test_scaled = y5_scalar.transform(y5_test)"
   ]
  },
  {
   "cell_type": "code",
   "execution_count": 58,
   "id": "valid-mission",
   "metadata": {},
   "outputs": [
    {
     "data": {
      "image/png": "[encoded data removed]",
      "text/plain": [
       "<Figure size 432x288 with 1 Axes>"
      ]
     },
     "metadata": {
      "needs_background": "light"
     },
     "output_type": "display_data"
    }
   ],
   "source": [
    "# Chart predictions by using fitted model\n",
    "model = LinearRegression()\n",
    "model.fit(X_train_scaled, y_train_scaled)\n",
    "plt.scatter(model.predict(X_train_scaled), model.predict(X_train_scaled) - y_train_scaled, c=\"blue\", label=\"Training Data\")\n",
    "plt.scatter(model.predict(X_test_scaled), model.predict(X_test_scaled) - y_test_scaled, c=\"orange\", label=\"Testing Data\")\n",
    "plt.legend()\n",
    "plt.hlines(y=0, xmin=y_test_scaled.min(), xmax=y_test_scaled.max())\n",
    "plt.title(\"Poudre/Finished pH Residual Plot\")\n",
    "plt.savefig(\"images/PF_pH_residual.png\")\n",
    "plt.show()"
   ]
  },
  {
   "cell_type": "code",
   "execution_count": 59,
   "id": "associate-cheese",
   "metadata": {},
   "outputs": [
    {
     "data": {
      "image/png": "[encoded data removed]",
      "text/plain": [
       "<Figure size 432x288 with 1 Axes>"
      ]
     },
     "metadata": {
      "needs_background": "light"
     },
     "output_type": "display_data"
    }
   ],
   "source": [
    "model = LinearRegression()\n",
    "model.fit(X1_train_scaled, y1_train_scaled)\n",
    "plt.scatter(model.predict(X1_train_scaled), model.predict(X1_train_scaled) - y1_train_scaled, c=\"blue\", label=\"Training Data\")\n",
    "plt.scatter(model.predict(X1_test_scaled), model.predict(X1_test_scaled) - y1_test_scaled, c=\"orange\", label=\"Testing Data\")\n",
    "plt.legend()\n",
    "plt.hlines(y=0, xmin=y_test_scaled.min(), xmax=y_test_scaled.max())\n",
    "plt.title(\"Horsetooth/Finished pH Residual Plot\")\n",
    "plt.savefig(\"images/HF_pH_residual.png\")\n",
    "plt.show()"
   ]
  },
  {
   "cell_type": "code",
   "execution_count": 60,
   "id": "binary-panel",
   "metadata": {},
   "outputs": [
    {
     "data": {
      "image/png": "[encoded data removed]",
      "text/plain": [
       "<Figure size 432x288 with 1 Axes>"
      ]
     },
     "metadata": {
      "needs_background": "light"
     },
     "output_type": "display_data"
    }
   ],
   "source": [
    "model = LinearRegression()\n",
    "model.fit(X2_train_scaled, y2_train_scaled)\n",
    "plt.scatter(model.predict(X2_train_scaled), model.predict(X2_train_scaled) - y2_train_scaled, c=\"blue\", label=\"Training Data\")\n",
    "plt.scatter(model.predict(X2_test_scaled), model.predict(X2_test_scaled) - y2_test_scaled, c=\"orange\", label=\"Testing Data\")\n",
    "plt.legend()\n",
    "plt.hlines(y=0, xmin=y2_test_scaled.min(), xmax=y2_test_scaled.max())\n",
    "plt.title(\"Poudre/Finished Turbidity (NTU) Residual Plot\")\n",
    "plt.savefig(\"images/PF_turb_residual.png\")\n",
    "plt.show()"
   ]
  },
  {
   "cell_type": "code",
   "execution_count": 61,
   "id": "capable-justice",
   "metadata": {},
   "outputs": [
    {
     "data": {
      "image/png": "[encoded data removed]",
      "text/plain": [
       "<Figure size 432x288 with 1 Axes>"
      ]
     },
     "metadata": {
      "needs_background": "light"
     },
     "output_type": "display_data"
    }
   ],
   "source": [
    "model = LinearRegression()\n",
    "model.fit(X3_train_scaled, y3_train_scaled)\n",
    "plt.scatter(model.predict(X3_train_scaled), model.predict(X3_train_scaled) - y3_train_scaled, c=\"blue\", label=\"Training Data\")\n",
    "plt.scatter(model.predict(X3_test_scaled), model.predict(X3_test_scaled) - y1_test_scaled, c=\"orange\", label=\"Testing Data\")\n",
    "plt.legend()\n",
    "plt.hlines(y=0, xmin=y3_test_scaled.min(), xmax=y3_test_scaled.max())\n",
    "plt.title(\"Horsetooth/Finished Turbidity (NTU) Residual Plot\")\n",
    "plt.savefig(\"images/HF_turb_residual.png\")\n",
    "plt.show()"
   ]
  },
  {
   "cell_type": "code",
   "execution_count": 62,
   "id": "seventh-dictionary",
   "metadata": {},
   "outputs": [
    {
     "data": {
      "image/png": "[encoded data removed]",
      "text/plain": [
       "<Figure size 432x288 with 1 Axes>"
      ]
     },
     "metadata": {
      "needs_background": "light"
     },
     "output_type": "display_data"
    }
   ],
   "source": [
    "model = LinearRegression()\n",
    "model.fit(X4_train_scaled, y4_train_scaled)\n",
    "plt.scatter(model.predict(X4_train_scaled), model.predict(X4_train_scaled) - y4_train_scaled, c=\"blue\", label=\"Training Data\")\n",
    "plt.scatter(model.predict(X4_test_scaled), model.predict(X4_test_scaled) - y4_test_scaled, c=\"orange\", label=\"Testing Data\")\n",
    "plt.legend()\n",
    "plt.hlines(y=0, xmin=y4_test_scaled.min(), xmax=y4_test_scaled.max())\n",
    "plt.title(\"Poudre/Finished Temperature (C) Residual Plot\")\n",
    "plt.savefig(\"images/PF_temp_residual.png\")\n",
    "plt.show()"
   ]
  },
  {
   "cell_type": "code",
   "execution_count": 63,
   "id": "stainless-reception",
   "metadata": {},
   "outputs": [
    {
     "data": {
      "image/png": "[encoded data removed]",
      "text/plain": [
       "<Figure size 432x288 with 1 Axes>"
      ]
     },
     "metadata": {
      "needs_background": "light"
     },
     "output_type": "display_data"
    }
   ],
   "source": [
    "model = LinearRegression()\n",
    "model.fit(X5_train_scaled, y5_train_scaled)\n",
    "plt.scatter(model.predict(X5_train_scaled), model.predict(X5_train_scaled) - y5_train_scaled, c=\"blue\", label=\"Training Data\")\n",
    "plt.scatter(model.predict(X5_test_scaled), model.predict(X5_test_scaled) - y5_test_scaled, c=\"orange\", label=\"Testing Data\")\n",
    "plt.legend()\n",
    "plt.hlines(y=0, xmin=y5_test_scaled.min(), xmax=y5_test_scaled.max())\n",
    "plt.title(\"Horsetooth/Finished Temperature (C) Residual Plot\") \n",
    "plt.savefig(\"images/HF_temp_residual.png\")\n",
    "plt.show()"
   ]
  },
  {
   "cell_type": "code",
   "execution_count": null,
   "id": "south-indication",
   "metadata": {},
   "outputs": [],
   "source": []
  }
 ],
 "metadata": {
  "kernelspec": {
   "display_name": "Python [conda env:newenvironment] *",
   "language": "python",
   "name": "conda-env-newenvironment-py"
  },
  "language_info": {
   "codemirror_mode": {
    "name": "ipython",
    "version": 3
   },
   "file_extension": ".py",
   "mimetype": "text/x-python",
   "name": "python",
   "nbconvert_exporter": "python",
   "pygments_lexer": "ipython3",
   "version": "3.8.5"
  }
 },
 "nbformat": 4,
 "nbformat_minor": 5
}
